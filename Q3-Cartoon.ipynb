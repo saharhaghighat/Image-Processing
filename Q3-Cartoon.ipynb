{
 "cells": [
  {
   "cell_type": "code",
   "execution_count": 1,
   "id": "996bb12c-a7c7-4e10-8af7-16abb7e0f664",
   "metadata": {},
   "outputs": [],
   "source": [
    "import cv2 as cv\n",
    "import numpy as np\n",
    "from matplotlib import pyplot as plt"
   ]
  },
  {
   "cell_type": "code",
   "execution_count": null,
   "id": "e16de132-e9a4-47d6-a980-d555a0f4efc1",
   "metadata": {},
   "outputs": [],
   "source": []
  },
  {
   "cell_type": "code",
   "execution_count": null,
   "id": "2a69730c-2321-4800-9d48-20ae966d17b4",
   "metadata": {},
   "outputs": [],
   "source": [
    " edges = cv.Canny(gray_blurred, 100, 200)\n",
    "    \n",
    "    # 4. Apply threshold to get a binary image\n",
    "    ret, mask = cv.threshold(edges, 127, 255, cv.THRESH_BINARY_INV)\n",
    "    \n",
    "    # 5. Apply bilateral filter to reduce the number of colors\n",
    "    color = cv.bilateralFilter(img, 9, 300, 300)\n",
    "    \n",
    "    # 6. Combine the edge mask with the reduced color image\n",
    "    cartoon = cv.bitwise_and(color, color, mask=mask)"
   ]
  }
 ],
 "metadata": {
  "kernelspec": {
   "display_name": "Python 3 (ipykernel)",
   "language": "python",
   "name": "python3"
  },
  "language_info": {
   "codemirror_mode": {
    "name": "ipython",
    "version": 3
   },
   "file_extension": ".py",
   "mimetype": "text/x-python",
   "name": "python",
   "nbconvert_exporter": "python",
   "pygments_lexer": "ipython3",
   "version": "3.11.7"
  }
 },
 "nbformat": 4,
 "nbformat_minor": 5
}
